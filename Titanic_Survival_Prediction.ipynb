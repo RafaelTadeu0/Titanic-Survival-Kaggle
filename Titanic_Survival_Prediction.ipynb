{
  "nbformat": 4,
  "nbformat_minor": 0,
  "metadata": {
    "colab": {
      "name": "Titanic_Survival_Prediction.ipynb",
      "provenance": [],
      "collapsed_sections": [],
      "toc_visible": true,
      "mount_file_id": "1V4ZoiFz1Y9fXjuFWaz7EiorVFAKmFQJv",
      "authorship_tag": "ABX9TyMH3ZVX1+H6ltfMRmBHNzeX",
      "include_colab_link": true
    },
    "kernelspec": {
      "name": "python3",
      "display_name": "Python 3"
    }
  },
  "cells": [
    {
      "cell_type": "markdown",
      "metadata": {
        "id": "view-in-github",
        "colab_type": "text"
      },
      "source": [
        "<a href=\"https://colab.research.google.com/github/RafaelTadeu0/Titanic-Survival-Kaggle/blob/main/Titanic_Survival_Prediction.ipynb\" target=\"_parent\"><img src=\"https://colab.research.google.com/assets/colab-badge.svg\" alt=\"Open In Colab\"/></a>"
      ]
    },
    {
      "cell_type": "markdown",
      "metadata": {
        "id": "Sy5Gs7I_7-Qg"
      },
      "source": [
        "## **Análise de sobrevivência de passageiro do Titanic**\n",
        "### **Sumário**\n",
        "1. Descrição do problema\n",
        "2. Objetivo\n",
        "3. Exploração dos Dados\n",
        "4. Processamento do Dados\n",
        "5. Modelo Analítico\n",
        "6. Conclusão \n"
      ]
    },
    {
      "cell_type": "markdown",
      "metadata": {
        "id": "eERqJO-Q0wbx"
      },
      "source": [
        "#### **1. Descrição do problema**\n",
        "O Titanic era um navio britânico de luxo que custou mais de 7,5 milhões de dólares (levando em conta o valor da moeda na época) para ser construído. Era operado por 892 tripulantes e podia carregar até 2435 passageiros. \n",
        "\n",
        "O navio foi lançado ao mar em 1911 e era famoso por ser considerado o návio mais seguro já constrúido. Esse pensamento foi um dos fatores que contruibuíram para o seu naufrágio.\n",
        "\n",
        "O acidente do Titã se deu pelo clima e por falha humana, tais como negligência, imperícia e excesso de confiança no estrutural do navio. A fatalidade causou a morte de 1502 pessoas de um total de 2224 presentes no navio.\n",
        " \n",
        "Com ajuda da sorte pouco mais que 700 pessoas sobreviram ao acidente. Contudo, será que foi apenas sorte? Ao analisar o perfil dos sobreviventes é notável a preferência por mulheres e crianças além de uma parcela significativa dos passageiros que haviam comprado passagens de primeira classe. Então, a partir dos dados disponíveis dos passageiros do navio, deve ser possível fazer uma análise que descreva quem sobreviveria e quem não.\n",
        "\n",
        "referência: https://pt.wikipedia.org/wiki/RMS_Titanic\n",
        "#### **2. Objetivo**\n",
        "Para esse estudo, há dois pontos principais: A análise de quais são as características que fornecem a maior chance de sobrevivência de um passageiro e a contrução de um modelo preditivo para analisar as chances de sobrevivência de um passageiro qualquer dadas suas características.\n",
        "\n",
        "Para tal, é essencial a escolha de uma métrica de desempenho que nos retorne um resultado válido. O score, que é medido em relação ao número de previsões corretas de um modelo, é uma métrica muito útil para estudos como esse que desejam acertar uma categoria, nesse caso de sobrevivente ou não-sobrevivente. "
      ]
    },
    {
      "cell_type": "markdown",
      "metadata": {
        "id": "SwXKoZLr8GDX"
      },
      "source": [
        "#### **3. Exploração de Dados**\n",
        "\n",
        "Antes de comerçarmos a explorar os dados, devemos importar as bibliotecas que nos permitam fazer essa exploração.\n",
        "\n",
        "As bibliotecas \"principais\" são:\n",
        "\n",
        "  * **Pandas**\n",
        "    * Importação e manipulação de dataframes\n",
        "  * **Numpy**\n",
        "    * Funções e operações matemáticas para python\n",
        "  * **Seaborn**\n",
        "    * Visualização estatística dos dados\n",
        "\n",
        "\n",
        "Para a exploração dos dados também é muito importante visualizar na forma de gráficos esses dados e suas características, e para isso, além da biblioteca **Seaborn**, também importamos o **Pyplot** da biblioteca **Matplotlib** e damos a ele o apelido **plt** para que fique mais fácil de se entender o código fonte.\n",
        "\n",
        "Por fim, para seguirmos as boas práticas de programação, também importamos as bibliotecas que serão importantes para contrução do modelo para mantermos todas as importações do código num mesmo espaço.\n"
      ]
    },
    {
      "cell_type": "code",
      "metadata": {
        "id": "SPGfxSqTAJjW",
        "colab": {
          "base_uri": "https://localhost:8080/",
          "height": 51
        },
        "outputId": "bc9c5f73-586f-4e7a-8232-9b42f67f5652"
      },
      "source": [
        "import pandas as pd\n",
        "import numpy as np\n",
        "import seaborn as sns\n",
        "\n",
        "import matplotlib.pyplot as plt\n",
        "%matplotlib inline\n",
        "\n",
        "pd.options.display.max_columns = None\n",
        "\n",
        "from sklearn.linear_model import SGDClassifier\n",
        "from sklearn.tree import DecisionTreeClassifier\n",
        "from sklearn.ensemble import RandomForestClassifier\n",
        "from sklearn.model_selection import train_test_split\n",
        "#"
      ],
      "execution_count": null,
      "outputs": [
        {
          "output_type": "stream",
          "text": [
            "/usr/local/lib/python3.6/dist-packages/statsmodels/tools/_testing.py:19: FutureWarning: pandas.util.testing is deprecated. Use the functions in the public API at pandas.testing instead.\n",
            "  import pandas.util.testing as tm\n"
          ],
          "name": "stderr"
        }
      ]
    },
    {
      "cell_type": "markdown",
      "metadata": {
        "id": "v_G3SQjpxH95"
      },
      "source": [
        "Agora precisamos importar os dados do problema. Esses dados são disponibilizados em uma competição do site Kaggle ( https://www.kaggle.com/c/titanic). Na competição, temos 3 arquivos disponiveis: **test.csv**, **train.csv**, e **gender_submission.csv**. No **train.csv** temos os dados para treino, isto é, usados exclusivamente para geração do modelo preditivo e possui o gabarito do problema. O **teste.csv** possui as mesmas variáveis presentes no **train.csv** de diferentes passageiros, contudo não possui o gabarito e é usado para fazer o Score do modelo gerado. O arquivo **gender_submission.csv** é apenas um exemplo de como deve-se submeter, para a competição, o resultado gerado pelo modelo no conjunto de teste.\n"
      ]
    },
    {
      "cell_type": "code",
      "metadata": {
        "id": "nZu9tWXc12LK"
      },
      "source": [
        "train_df = pd.read_csv('drive/My Drive/data_colab/train.csv')\n",
        "test_df = pd.read_csv('drive/My Drive/data_colab/test.csv')"
      ],
      "execution_count": null,
      "outputs": []
    },
    {
      "cell_type": "markdown",
      "metadata": {
        "id": "DJcUHxVE357G"
      },
      "source": [
        "Com os dados importados, uma tarefa necessária é a vizualização de qual é o nosso espaço dimensional (coluna) e a quantidade de dados existente (linhas).\n"
      ]
    },
    {
      "cell_type": "code",
      "metadata": {
        "id": "e80I_7sM4LwN",
        "colab": {
          "base_uri": "https://localhost:8080/",
          "height": 51
        },
        "outputId": "9a5b2122-519c-4541-9ddc-de9fd4f698b8"
      },
      "source": [
        "# Verificação do dataframe de treino\n",
        "\n",
        "print(\"Colunas:\\t{}\\nEntradas:\\t{}\".format(train_df.shape[1], train_df.shape[0]))"
      ],
      "execution_count": null,
      "outputs": [
        {
          "output_type": "stream",
          "text": [
            "Colunas:\t12\n",
            "Entradas:\t891\n"
          ],
          "name": "stdout"
        }
      ]
    },
    {
      "cell_type": "markdown",
      "metadata": {
        "id": "33aoTj27_HtX"
      },
      "source": [
        "Nessas 12 colunas temos as características de cada passageiro. Vamos vizualizá-las."
      ]
    },
    {
      "cell_type": "code",
      "metadata": {
        "id": "W-quF-n55CsB",
        "colab": {
          "base_uri": "https://localhost:8080/",
          "height": 204
        },
        "outputId": "b978b09a-5020-4b9a-ea3e-8efc28e30961"
      },
      "source": [
        "display(train_df.head())"
      ],
      "execution_count": null,
      "outputs": [
        {
          "output_type": "display_data",
          "data": {
            "text/html": [
              "<div>\n",
              "<style scoped>\n",
              "    .dataframe tbody tr th:only-of-type {\n",
              "        vertical-align: middle;\n",
              "    }\n",
              "\n",
              "    .dataframe tbody tr th {\n",
              "        vertical-align: top;\n",
              "    }\n",
              "\n",
              "    .dataframe thead th {\n",
              "        text-align: right;\n",
              "    }\n",
              "</style>\n",
              "<table border=\"1\" class=\"dataframe\">\n",
              "  <thead>\n",
              "    <tr style=\"text-align: right;\">\n",
              "      <th></th>\n",
              "      <th>PassengerId</th>\n",
              "      <th>Survived</th>\n",
              "      <th>Pclass</th>\n",
              "      <th>Name</th>\n",
              "      <th>Sex</th>\n",
              "      <th>Age</th>\n",
              "      <th>SibSp</th>\n",
              "      <th>Parch</th>\n",
              "      <th>Ticket</th>\n",
              "      <th>Fare</th>\n",
              "      <th>Cabin</th>\n",
              "      <th>Embarked</th>\n",
              "    </tr>\n",
              "  </thead>\n",
              "  <tbody>\n",
              "    <tr>\n",
              "      <th>0</th>\n",
              "      <td>1</td>\n",
              "      <td>0</td>\n",
              "      <td>3</td>\n",
              "      <td>Braund, Mr. Owen Harris</td>\n",
              "      <td>male</td>\n",
              "      <td>22.0</td>\n",
              "      <td>1</td>\n",
              "      <td>0</td>\n",
              "      <td>A/5 21171</td>\n",
              "      <td>7.2500</td>\n",
              "      <td>NaN</td>\n",
              "      <td>S</td>\n",
              "    </tr>\n",
              "    <tr>\n",
              "      <th>1</th>\n",
              "      <td>2</td>\n",
              "      <td>1</td>\n",
              "      <td>1</td>\n",
              "      <td>Cumings, Mrs. John Bradley (Florence Briggs Th...</td>\n",
              "      <td>female</td>\n",
              "      <td>38.0</td>\n",
              "      <td>1</td>\n",
              "      <td>0</td>\n",
              "      <td>PC 17599</td>\n",
              "      <td>71.2833</td>\n",
              "      <td>C85</td>\n",
              "      <td>C</td>\n",
              "    </tr>\n",
              "    <tr>\n",
              "      <th>2</th>\n",
              "      <td>3</td>\n",
              "      <td>1</td>\n",
              "      <td>3</td>\n",
              "      <td>Heikkinen, Miss. Laina</td>\n",
              "      <td>female</td>\n",
              "      <td>26.0</td>\n",
              "      <td>0</td>\n",
              "      <td>0</td>\n",
              "      <td>STON/O2. 3101282</td>\n",
              "      <td>7.9250</td>\n",
              "      <td>NaN</td>\n",
              "      <td>S</td>\n",
              "    </tr>\n",
              "    <tr>\n",
              "      <th>3</th>\n",
              "      <td>4</td>\n",
              "      <td>1</td>\n",
              "      <td>1</td>\n",
              "      <td>Futrelle, Mrs. Jacques Heath (Lily May Peel)</td>\n",
              "      <td>female</td>\n",
              "      <td>35.0</td>\n",
              "      <td>1</td>\n",
              "      <td>0</td>\n",
              "      <td>113803</td>\n",
              "      <td>53.1000</td>\n",
              "      <td>C123</td>\n",
              "      <td>S</td>\n",
              "    </tr>\n",
              "    <tr>\n",
              "      <th>4</th>\n",
              "      <td>5</td>\n",
              "      <td>0</td>\n",
              "      <td>3</td>\n",
              "      <td>Allen, Mr. William Henry</td>\n",
              "      <td>male</td>\n",
              "      <td>35.0</td>\n",
              "      <td>0</td>\n",
              "      <td>0</td>\n",
              "      <td>373450</td>\n",
              "      <td>8.0500</td>\n",
              "      <td>NaN</td>\n",
              "      <td>S</td>\n",
              "    </tr>\n",
              "  </tbody>\n",
              "</table>\n",
              "</div>"
            ],
            "text/plain": [
              "   PassengerId  Survived  Pclass  \\\n",
              "0            1         0       3   \n",
              "1            2         1       1   \n",
              "2            3         1       3   \n",
              "3            4         1       1   \n",
              "4            5         0       3   \n",
              "\n",
              "                                                Name     Sex   Age  SibSp  \\\n",
              "0                            Braund, Mr. Owen Harris    male  22.0      1   \n",
              "1  Cumings, Mrs. John Bradley (Florence Briggs Th...  female  38.0      1   \n",
              "2                             Heikkinen, Miss. Laina  female  26.0      0   \n",
              "3       Futrelle, Mrs. Jacques Heath (Lily May Peel)  female  35.0      1   \n",
              "4                           Allen, Mr. William Henry    male  35.0      0   \n",
              "\n",
              "   Parch            Ticket     Fare Cabin Embarked  \n",
              "0      0         A/5 21171   7.2500   NaN        S  \n",
              "1      0          PC 17599  71.2833   C85        C  \n",
              "2      0  STON/O2. 3101282   7.9250   NaN        S  \n",
              "3      0            113803  53.1000  C123        S  \n",
              "4      0            373450   8.0500   NaN        S  "
            ]
          },
          "metadata": {
            "tags": []
          }
        }
      ]
    },
    {
      "cell_type": "markdown",
      "metadata": {
        "id": "XNVARoID_UsP"
      },
      "source": [
        "##### **Colunas**\n",
        "* **PassengerID**: Número que identificar do passageiro\n",
        "* **Survived**: Variável de interesse que mostra se o passageiro\n",
        "  * 0 = Não sobreviveu\n",
        "  * 1 = Sobreviveu\n",
        "* **Pclass**: Classe do bilhete\n",
        "  * 1 - Primeira Classe\n",
        "  * 2 - Segunda Classe\n",
        "  * 3 - Terceira Classe\n",
        "* **Name**: Nome dos passageiros\n",
        "* **Sex**: Sexo dos passageiros\n",
        "* **Age**: Idade dos passageiros\n",
        "* **SibSp**: Número de irmãos e/ou cônjuges a bordo\n",
        "* **Parch**: Número de pais e/ou filhos a bordo\n",
        "* **Ticket**: Número de identificação do bilhete\n",
        "* **Fare**: Preço do bilhete\n",
        "* **Cabin**: Número de identificação da cabine do passageiro\n",
        "* **Embarked**: Porto de embarque de um passageiro\n",
        "  * C - Cherbourg\n",
        "  * Q - Queenstown\n",
        "  * S - Southampton\n",
        "\n",
        "Também é importante a análise dos tipos de cada coluna, visto que algumas são formadas por letras, outras por números ou uma combinação de letras e números. Vale notar que na tabela acima existe um dado chamado \"**NaN**\" que, em tradução livre, significa \"não número\", ou seja, pode ser um dado faltante, uma letra num dado que deveria ser número, ou um caractere inválido.\n",
        "\n"
      ]
    },
    {
      "cell_type": "code",
      "metadata": {
        "id": "-ki46_xJDs2O",
        "colab": {
          "base_uri": "https://localhost:8080/",
          "height": 238
        },
        "outputId": "a5a2277d-af26-45b5-8317-d8f9aa2972b2"
      },
      "source": [
        "display(train_df.dtypes)"
      ],
      "execution_count": null,
      "outputs": [
        {
          "output_type": "display_data",
          "data": {
            "text/plain": [
              "PassengerId      int64\n",
              "Survived         int64\n",
              "Pclass           int64\n",
              "Name            object\n",
              "Sex             object\n",
              "Age            float64\n",
              "SibSp            int64\n",
              "Parch            int64\n",
              "Ticket          object\n",
              "Fare           float64\n",
              "Cabin           object\n",
              "Embarked        object\n",
              "dtype: object"
            ]
          },
          "metadata": {
            "tags": []
          }
        }
      ]
    },
    {
      "cell_type": "markdown",
      "metadata": {
        "id": "765_XF5GEF06"
      },
      "source": [
        "Pode-se notar que os dados estão distribuídos em 3 tipos diferentes:\n",
        "* **int64**: Representação de números inteiros de 64-bit\n",
        "* **object**: Representando palavras, caracteres ou uma mistura de números e caracteres\n",
        "* **float64**: Reprentação de números tipo ponto flutuante (decimal) de 64-bit\n",
        "\n",
        "Como esse problema não possui muitas linhas (passageiros), num primeiro momento, podemos dizer que não causará nenhum erro de memória, então não há necessidade de se fazer um tratamento nos dados númericos que ocupam espaço desnecessário de memória por serem de 64-bit. Esse tratamento serviria para que os dados que possuem valores baixos como os da coluna **Pclass** ocupassem menos espaço de memória, tornando o processamento mais veloz.\n",
        "\n",
        "##### **Estatísticas dos dados**"
      ]
    },
    {
      "cell_type": "code",
      "metadata": {
        "id": "3rSWiHXVGnAP",
        "colab": {
          "base_uri": "https://localhost:8080/",
          "height": 297
        },
        "outputId": "454cc2f4-6e8c-420a-ece5-739f15f0fc26"
      },
      "source": [
        "display(train_df.describe())\n",
        "# train_df.hist(figsize=(15,12));"
      ],
      "execution_count": null,
      "outputs": [
        {
          "output_type": "display_data",
          "data": {
            "text/html": [
              "<div>\n",
              "<style scoped>\n",
              "    .dataframe tbody tr th:only-of-type {\n",
              "        vertical-align: middle;\n",
              "    }\n",
              "\n",
              "    .dataframe tbody tr th {\n",
              "        vertical-align: top;\n",
              "    }\n",
              "\n",
              "    .dataframe thead th {\n",
              "        text-align: right;\n",
              "    }\n",
              "</style>\n",
              "<table border=\"1\" class=\"dataframe\">\n",
              "  <thead>\n",
              "    <tr style=\"text-align: right;\">\n",
              "      <th></th>\n",
              "      <th>PassengerId</th>\n",
              "      <th>Survived</th>\n",
              "      <th>Pclass</th>\n",
              "      <th>Age</th>\n",
              "      <th>SibSp</th>\n",
              "      <th>Parch</th>\n",
              "      <th>Fare</th>\n",
              "    </tr>\n",
              "  </thead>\n",
              "  <tbody>\n",
              "    <tr>\n",
              "      <th>count</th>\n",
              "      <td>891.000000</td>\n",
              "      <td>891.000000</td>\n",
              "      <td>891.000000</td>\n",
              "      <td>714.000000</td>\n",
              "      <td>891.000000</td>\n",
              "      <td>891.000000</td>\n",
              "      <td>891.000000</td>\n",
              "    </tr>\n",
              "    <tr>\n",
              "      <th>mean</th>\n",
              "      <td>446.000000</td>\n",
              "      <td>0.383838</td>\n",
              "      <td>2.308642</td>\n",
              "      <td>29.699118</td>\n",
              "      <td>0.523008</td>\n",
              "      <td>0.381594</td>\n",
              "      <td>32.204208</td>\n",
              "    </tr>\n",
              "    <tr>\n",
              "      <th>std</th>\n",
              "      <td>257.353842</td>\n",
              "      <td>0.486592</td>\n",
              "      <td>0.836071</td>\n",
              "      <td>14.526497</td>\n",
              "      <td>1.102743</td>\n",
              "      <td>0.806057</td>\n",
              "      <td>49.693429</td>\n",
              "    </tr>\n",
              "    <tr>\n",
              "      <th>min</th>\n",
              "      <td>1.000000</td>\n",
              "      <td>0.000000</td>\n",
              "      <td>1.000000</td>\n",
              "      <td>0.420000</td>\n",
              "      <td>0.000000</td>\n",
              "      <td>0.000000</td>\n",
              "      <td>0.000000</td>\n",
              "    </tr>\n",
              "    <tr>\n",
              "      <th>25%</th>\n",
              "      <td>223.500000</td>\n",
              "      <td>0.000000</td>\n",
              "      <td>2.000000</td>\n",
              "      <td>20.125000</td>\n",
              "      <td>0.000000</td>\n",
              "      <td>0.000000</td>\n",
              "      <td>7.910400</td>\n",
              "    </tr>\n",
              "    <tr>\n",
              "      <th>50%</th>\n",
              "      <td>446.000000</td>\n",
              "      <td>0.000000</td>\n",
              "      <td>3.000000</td>\n",
              "      <td>28.000000</td>\n",
              "      <td>0.000000</td>\n",
              "      <td>0.000000</td>\n",
              "      <td>14.454200</td>\n",
              "    </tr>\n",
              "    <tr>\n",
              "      <th>75%</th>\n",
              "      <td>668.500000</td>\n",
              "      <td>1.000000</td>\n",
              "      <td>3.000000</td>\n",
              "      <td>38.000000</td>\n",
              "      <td>1.000000</td>\n",
              "      <td>0.000000</td>\n",
              "      <td>31.000000</td>\n",
              "    </tr>\n",
              "    <tr>\n",
              "      <th>max</th>\n",
              "      <td>891.000000</td>\n",
              "      <td>1.000000</td>\n",
              "      <td>3.000000</td>\n",
              "      <td>80.000000</td>\n",
              "      <td>8.000000</td>\n",
              "      <td>6.000000</td>\n",
              "      <td>512.329200</td>\n",
              "    </tr>\n",
              "  </tbody>\n",
              "</table>\n",
              "</div>"
            ],
            "text/plain": [
              "       PassengerId    Survived      Pclass         Age       SibSp  \\\n",
              "count   891.000000  891.000000  891.000000  714.000000  891.000000   \n",
              "mean    446.000000    0.383838    2.308642   29.699118    0.523008   \n",
              "std     257.353842    0.486592    0.836071   14.526497    1.102743   \n",
              "min       1.000000    0.000000    1.000000    0.420000    0.000000   \n",
              "25%     223.500000    0.000000    2.000000   20.125000    0.000000   \n",
              "50%     446.000000    0.000000    3.000000   28.000000    0.000000   \n",
              "75%     668.500000    1.000000    3.000000   38.000000    1.000000   \n",
              "max     891.000000    1.000000    3.000000   80.000000    8.000000   \n",
              "\n",
              "            Parch        Fare  \n",
              "count  891.000000  891.000000  \n",
              "mean     0.381594   32.204208  \n",
              "std      0.806057   49.693429  \n",
              "min      0.000000    0.000000  \n",
              "25%      0.000000    7.910400  \n",
              "50%      0.000000   14.454200  \n",
              "75%      0.000000   31.000000  \n",
              "max      6.000000  512.329200  "
            ]
          },
          "metadata": {
            "tags": []
          }
        }
      ]
    },
    {
      "cell_type": "markdown",
      "metadata": {
        "id": "1z9iePW0wtfQ"
      },
      "source": [
        "##### **Análise de grupos dos passageiros**\n",
        "Antes de começar a construir o modelo, é necessária a visualização dos dados de forma crítica. Para isso, vamos observar a qauntidade de sobreviventes em 3 colunas do banco de dados: **Sex**, **Pclass**, e **Embarked**. Essas três variáveis possuem pouco valores, provavelmente estão bastantes correlacionados com a taxa de sobrevivência de um passageiro."
      ]
    },
    {
      "cell_type": "code",
      "metadata": {
        "id": "8bTK4U3LyDWE",
        "colab": {
          "base_uri": "https://localhost:8080/",
          "height": 351
        },
        "outputId": "fef73e91-1342-4e58-8f48-63c7c44d73b5"
      },
      "source": [
        "fig, (axis1,axis2,axis3) = plt.subplots(1,3,figsize=(15,5))\n",
        "fig.set_facecolor('white')\n",
        "sns.barplot(x='Sex',y='Survived',data=train_df,ax=axis1)\n",
        "sns.barplot(x='Pclass',y='Survived',data=train_df,ax=axis2)\n",
        "sns.barplot(x='Embarked',y='Survived',data=train_df,ax=axis3)"
      ],
      "execution_count": null,
      "outputs": [
        {
          "output_type": "execute_result",
          "data": {
            "text/plain": [
              "<matplotlib.axes._subplots.AxesSubplot at 0x7f019a3b2208>"
            ]
          },
          "metadata": {
            "tags": []
          },
          "execution_count": 14
        },
        {
          "output_type": "display_data",
          "data": {
            "image/png": "[encoded data removed]",
            "text/plain": [
              "<Figure size 1080x360 with 3 Axes>"
            ]
          },
          "metadata": {
            "tags": []
          }
        }
      ]
    },
    {
      "cell_type": "markdown",
      "metadata": {
        "id": "e9u_rbEF0kG2"
      },
      "source": [
        "Os gráficos acima nos mostram tendência de cada variável em relação a sobrevivência, isto é, quem tem as maiores chances de sobrevivência segundo os dados. No primeiro gráfico, vemos notavelmente que as mulheres têm mais chances de sobreviver do que os homens (cerca de 75% para as mulheres contra 18% para os homens). Outra tendência bem evidente é que quanto maior a classe do bilhete de um passageiro maior é sua chance de sobreviver. No último gráfico, a tendência é que os passageiros que embarcaram em Cherbourg tem maiores chances do que os que embarcaram nos outros dois portos. \n",
        "\n",
        "Dessas tendências, duas são explicadas de forma razoável. As mulheres tem maiores chances de sobreviver, pois foi decidido no momneto do acidente que elas tinham prioridade, o que é mostrado no gráfico. Os passageiros de primeira classe tinham maiores chances porque muitos deles poderiam ser políticos ou empresários influentes. Contudo, como o local de embarque de um passageiro poderia aumentar sua chance de sobreviver? \n",
        "\n",
        "Para responder esse questionamento, podemos mostrar qual era o perfil dos passageiros que embarcaram em cada porto.\n"
      ]
    },
    {
      "cell_type": "code",
      "metadata": {
        "id": "byJ_66sLC_L4",
        "colab": {
          "base_uri": "https://localhost:8080/",
          "height": 238
        },
        "outputId": "e72da26b-9e4c-4c4d-ccd6-4eca02d331a5"
      },
      "source": [
        "combine  = [train_df, test_df]\n",
        "missing = train_df.isnull().sum()/train_df.shape[0]\n",
        "missing.sort_values(ascending=False)"
      ],
      "execution_count": null,
      "outputs": [
        {
          "output_type": "execute_result",
          "data": {
            "text/plain": [
              "Cabin          0.771044\n",
              "Age            0.198653\n",
              "Embarked       0.002245\n",
              "Fare           0.000000\n",
              "Ticket         0.000000\n",
              "Parch          0.000000\n",
              "SibSp          0.000000\n",
              "Sex            0.000000\n",
              "Name           0.000000\n",
              "Pclass         0.000000\n",
              "Survived       0.000000\n",
              "PassengerId    0.000000\n",
              "dtype: float64"
            ]
          },
          "metadata": {
            "tags": []
          },
          "execution_count": 12
        }
      ]
    },
    {
      "cell_type": "code",
      "metadata": {
        "id": "DGuCLq0LDPzF",
        "colab": {
          "base_uri": "https://localhost:8080/",
          "height": 255
        },
        "outputId": "8781b58d-b104-4ba2-98bc-64c795c4bf3f"
      },
      "source": [
        "\n",
        "train_df = train_df.drop([\"PassengerId\",\"Name\",\"Ticket\"],axis=1)\n",
        "# test_df = test_df.drop([\"PassengerId\",\"Name\",\"Ticket\"],axis=1)\n",
        "\n",
        "train_tg = train_df.copy\n",
        "train_tg\n",
        "# X_train, X_test, Y_train, Y_test = train_test_split(train_df,,test_size=)\n"
      ],
      "execution_count": null,
      "outputs": [
        {
          "output_type": "execute_result",
          "data": {
            "text/plain": [
              "<bound method NDFrame.copy of      Survived  Pclass     Sex   Age  SibSp  Parch     Fare Cabin Embarked\n",
              "0           0       3    male  22.0      1      0   7.2500   NaN        S\n",
              "1           1       1  female  38.0      1      0  71.2833   C85        C\n",
              "2           1       3  female  26.0      0      0   7.9250   NaN        S\n",
              "3           1       1  female  35.0      1      0  53.1000  C123        S\n",
              "4           0       3    male  35.0      0      0   8.0500   NaN        S\n",
              "..        ...     ...     ...   ...    ...    ...      ...   ...      ...\n",
              "886         0       2    male  27.0      0      0  13.0000   NaN        S\n",
              "887         1       1  female  19.0      0      0  30.0000   B42        S\n",
              "888         0       3  female   NaN      1      2  23.4500   NaN        S\n",
              "889         1       1    male  26.0      0      0  30.0000  C148        C\n",
              "890         0       3    male  32.0      0      0   7.7500   NaN        Q\n",
              "\n",
              "[891 rows x 9 columns]>"
            ]
          },
          "metadata": {
            "tags": []
          },
          "execution_count": 13
        }
      ]
    }
  ]
}